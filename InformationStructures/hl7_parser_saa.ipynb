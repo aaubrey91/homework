{
 "cells": [
  {
   "cell_type": "code",
   "execution_count": 1,
   "metadata": {
    "collapsed": true
   },
   "outputs": [],
   "source": [
    "file = open(\"../../NightSix/obs.txt\", \"r\")\n",
    "#file = open(\"../../NightSix/reg.txt\", \"r\")\n",
    "obs = [line for line in file]\n",
    "file.close()\n"
   ]
  },
  {
   "cell_type": "code",
   "execution_count": 2,
   "metadata": {
    "collapsed": true
   },
   "outputs": [],
   "source": [
    "def parse_hl7(file_lines):\n",
    "    delimiters = file_lines[0].split(\"|\")[1]\n",
    "\n",
    "    json_dict = dict()\n",
    "\n",
    "    for i, line in enumerate(file_lines):\n",
    "        \n",
    "\n",
    "        #Key for the message header will be the line number (i) \\. the first field in the row\n",
    "        #if less than 10, add padding so it can be sorted correctly\n",
    "        if i < 10:\n",
    "            msh = \"0\"+str(i) + \".\" + line.split(\"|\")[0]\n",
    "        else:\n",
    "            msh = str(i) + \".\" + line.split(\"|\")[0]\n",
    "\n",
    "        json_dict[msh] = {}\n",
    "        line = line.replace(\"\\n\", \"\")\n",
    "\n",
    "        for ii, field in enumerate(line.split(\"|\")):\n",
    "            \n",
    "            #construct key with MESSAGE HEADER.i.ii\n",
    "            key = msh+\".\"+str(ii)\n",
    "\n",
    "\n",
    "            # don't want the field if it is null\n",
    "            if len(field)==0 or field==\"\":\n",
    "                continue\n",
    "\n",
    "            #dictionaries with nested keys/values need to be initialized before we can use them\n",
    "            json_dict[msh][key] = {}\n",
    "\n",
    "            for iii, segment in enumerate(field.split(delimiters[0])):\n",
    "                #Construct a segment key with our previous key with an additional numeric value\n",
    "                key_segment = key+\".\"+str(iii)\n",
    "\n",
    "                #don't want the field if it is null\n",
    "                if len(segment)==0 or segment==\"\":\n",
    "                    continue\n",
    "\n",
    "                #dictionaries with nested keys/values need to be initialized before we can use them\n",
    "                json_dict[msh][key][key_segment] = {}\n",
    "\n",
    "                for iiii, component in enumerate(segment.split(delimiters[1])):\n",
    "                    #construct a key for our compoments\n",
    "                    key_component = key_segment+\".\"+str(iiii)\n",
    "\n",
    "                    \"\"\" inject the values by assigning the most inner values first then going outwards \"\"\"\n",
    "\n",
    "                    #only need to assign the inner dictionary value if it exists \n",
    "                    #(if we split on the delimiter and more than one value exists)\n",
    "                    if len(segment.split(\"~\")) > 1: \n",
    "\n",
    "                        #don't want the field if it is null\n",
    "                        if len(component)==0 or component==\"\":\n",
    "                            continue\n",
    "                        json_dict[msh][key][key_segment][key_component] = component\n",
    "                    elif len(field.split(\"^\")) > 1:\n",
    "\n",
    "                         #don't want the field if it is null\n",
    "                        if len(segment)==0 or segment==\"\":\n",
    "                            continue\n",
    "                        json_dict[msh][key][key_segment] = segment\n",
    "                    else:\n",
    "\n",
    "                         #don't want the field if it is null\n",
    "                        if len(segment)==0 or segment==\"\":\n",
    "                            continue\n",
    "                        json_dict[msh][key] = field\n",
    "                        \n",
    "        #awful way of fixing the delimiter parsing for the second field\n",
    "        json_dict[\"00.MSH\"][\"00.MSH.1\"] = delimiters\n",
    "\n",
    "    return json_dict\n"
   ]
  },
  {
   "cell_type": "code",
   "execution_count": 3,
   "metadata": {
    "collapsed": true
   },
   "outputs": [],
   "source": [
    "json_dict = parse_hl7(obs)"
   ]
  },
  {
   "cell_type": "code",
   "execution_count": 4,
   "metadata": {
    "collapsed": true
   },
   "outputs": [],
   "source": [
    "from collections import OrderedDict\n",
    "def reorderDictItems(my_dictionary):\n",
    "    return OrderedDict(my_dictionary)"
   ]
  },
  {
   "cell_type": "code",
   "execution_count": 5,
   "metadata": {
    "collapsed": true
   },
   "outputs": [],
   "source": [
    "#dictionaries aren't ordered. Reorder the keys\n",
    "for key in json_dict.keys():\n",
    "    json_dict[key] = reorderDictItems(json_dict[key])\n",
    "    for inner_key in json_dict[key].keys():\n",
    "        #print(key, inner_key)\n",
    "        if type(json_dict[key][inner_key])==dict:\n",
    "            json_dict[key][inner_key] = reorderDictItems(json_dict[key][inner_key])"
   ]
  },
  {
   "cell_type": "code",
   "execution_count": 6,
   "metadata": {
    "collapsed": true
   },
   "outputs": [],
   "source": [
    "import json\n",
    "def write_json(my_dictionary, outfile):\n",
    "    my_json = json.dumps(my_dictionary)\n",
    "    file = open(outfile, \"w\")\n",
    "    file.write(my_json)\n",
    "    file.close()"
   ]
  },
  {
   "cell_type": "code",
   "execution_count": 7,
   "metadata": {
    "collapsed": true
   },
   "outputs": [],
   "source": [
    "write_json(json_dict, \"my_json.json\")"
   ]
  },
  {
   "cell_type": "code",
   "execution_count": 8,
   "metadata": {
    "collapsed": true
   },
   "outputs": [],
   "source": [
    "cat my_json.json | pbcopy"
   ]
  },
  {
   "cell_type": "code",
   "execution_count": null,
   "metadata": {
    "collapsed": true
   },
   "outputs": [],
   "source": []
  }
 ],
 "metadata": {
  "kernelspec": {
   "display_name": "Python 3",
   "language": "python",
   "name": "python3"
  },
  "language_info": {
   "codemirror_mode": {
    "name": "ipython",
    "version": 3
   },
   "file_extension": ".py",
   "mimetype": "text/x-python",
   "name": "python",
   "nbconvert_exporter": "python",
   "pygments_lexer": "ipython3",
   "version": "3.6.2"
  }
 },
 "nbformat": 4,
 "nbformat_minor": 2
}
