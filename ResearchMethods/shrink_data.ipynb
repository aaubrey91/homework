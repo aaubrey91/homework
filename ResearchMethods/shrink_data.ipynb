{
 "cells": [
  {
   "cell_type": "code",
   "execution_count": 26,
   "metadata": {},
   "outputs": [],
   "source": [
    "with open(\"redteam.csv\", mode='r') as infile: \n",
    "    with open(\"redteam_filtered.csv\", mode=\"w\") as outfile:\n",
    "        #[print(line) for i,line in enumerate(f) if i > 1 if int(line.split(\",\")[0]) < 210294]\n",
    "        [outfile.write(line) for i,line in enumerate(infile) if i > 1 if int(line.split(\",\")[0]) < 210294]"
   ]
  },
  {
   "cell_type": "code",
   "execution_count": 48,
   "metadata": {},
   "outputs": [],
   "source": [
    "#last_time=0\n",
    "#threshold=0\n",
    "\n",
    "with open(\"redteam.csv\", mode='r') as infile:\n",
    "    #count += 1\n",
    "    last_time = infile.readlines()[-1].split(\",\")[0]\n",
    "    threshold = round(int(last_time) / 2)\n",
    "    #[print(line) for i,line in enumerate(infile) if i > 1 if int(line.split(\",\")[0]) <= threshold]\n",
    "    #for line in infile:\n",
    "    #    print(line)\n",
    "    \n",
    "with open(\"redteam.csv\", mode='r') as infile:\n",
    "    with open(\"redteam_filtered.csv\", mode=\"w\") as outfile:\n",
    "        [outfile.write(line) for i,line in enumerate(infile) if i > 1 if int(line.split(\",\")[0]) <= threshold]"
   ]
  },
  {
   "cell_type": "code",
   "execution_count": null,
   "metadata": {},
   "outputs": [],
   "source": []
  },
  {
   "cell_type": "code",
   "execution_count": null,
   "metadata": {
    "collapsed": true
   },
   "outputs": [],
   "source": []
  }
 ],
 "metadata": {
  "kernelspec": {
   "display_name": "Python 3",
   "language": "python",
   "name": "python3"
  },
  "language_info": {
   "codemirror_mode": {
    "name": "ipython",
    "version": 3
   },
   "file_extension": ".py",
   "mimetype": "text/x-python",
   "name": "python",
   "nbconvert_exporter": "python",
   "pygments_lexer": "ipython3",
   "version": "3.6.2"
  }
 },
 "nbformat": 4,
 "nbformat_minor": 2
}
